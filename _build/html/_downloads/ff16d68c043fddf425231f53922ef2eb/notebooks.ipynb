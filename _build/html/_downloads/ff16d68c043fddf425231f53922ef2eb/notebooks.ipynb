{
 "cells": [
  {
   "cell_type": "markdown",
   "metadata": {},
   "source": [
    "(file-types:notebooks)=\n",
    "# Jupyter Notebook files\n",
    "\n",
    "You can create content with Jupyter notebooks.\n",
    "For example, the content for the current page is contained in {download}`this notebook file <./notebooks.ipynb>`.\n",
    "\n",
    "```{margin}\n",
    "If you'd like to write in plain-text files, but still keep a notebook structure, you can write\n",
    "Jupyter notebooks with MyST Markdown, which are then automatically converted to notebooks.\n",
    "See [](./myst-notebooks.md) for more details.\n",
    "```\n",
    "\n",
    "Jupyter Book supports all Markdown that is supported by Jupyter Notebook.\n",
    "This is mostly a flavour of Markdown called [CommonMark Markdown](https://commonmark.org/) with minor modifications.\n",
    "For more information about writing Jupyter-flavoured Markdown in Jupyter Book, see [](./markdown.md).\n",
    "\n",
    "## Code blocks and image outputs\n",
    "\n",
    "Jupyter Book will also embed your code blocks and output in your book.\n",
    "For example, here's some sample Matplotlib code:"
   ]
  },
  {
   "attachments": {},
   "cell_type": "markdown",
   "metadata": {},
   "source": [
    "```{attention}\n",
    "If you haven't done so already, please make sure that you've completed the [introductory survey](https://forms.gle/nUJkB7cPyiQBMDxm8) and completed the.\n",
    "```"
   ]
  },
  {
   "attachments": {},
   "cell_type": "markdown",
   "metadata": {},
   "source": [
    "```{admonition} Question\n",
    "What kind of problem is it?\n",
    "\n",
    "- a) a supervised problem\n",
    "- b) an unsupervised problem\n",
    "- c) a classification problem\n",
    "- d) a regression problem\n",
    "\n",
    "_Select all answers that apply_\n",
    "```"
   ]
  },
  {
   "attachments": {},
   "cell_type": "markdown",
   "metadata": {},
   "source": [
    "````{tab-set}\n",
    "```{tab-item} Tab 1 title\n",
    "My first tab\n",
    "```\n",
    "\n",
    "```{tab-item} Tab 2 title\n",
    "My second tab with `some code`!\n",
    "```\n",
    "````"
   ]
  },
  {
   "cell_type": "code",
   "execution_count": null,
   "metadata": {},
   "outputs": [],
   "source": [
    "from matplotlib import rcParams, cycler\n",
    "import matplotlib.pyplot as plt\n",
    "import numpy as np\n",
    "plt.ion()"
   ]
  },
  {
   "cell_type": "code",
   "execution_count": null,
   "metadata": {
    "tags": [
     "remove-stdout"
    ]
   },
   "outputs": [],
   "source": [
    "# Fixing random state for reproducibility\n",
    "np.random.seed(19680801)\n",
    "\n",
    "N = 10\n",
    "data = [np.logspace(0, 1, 100) + np.random.randn(100) + ii for ii in range(N)]\n",
    "data = np.array(data).T\n",
    "cmap = plt.cm.coolwarm\n",
    "rcParams['axes.prop_cycle'] = cycler(color=cmap(np.linspace(0, 1, N)))\n",
    "\n",
    "\n",
    "from matplotlib.lines import Line2D\n",
    "custom_lines = [Line2D([0], [0], color=cmap(0.), lw=4),\n",
    "                Line2D([0], [0], color=cmap(.5), lw=4),\n",
    "                Line2D([0], [0], color=cmap(1.), lw=4)]\n",
    "\n",
    "fig, ax = plt.subplots(figsize=(10, 5))\n",
    "lines = ax.plot(data)\n",
    "ax.legend(custom_lines, ['Cold', 'Medium', 'Hot']);"
   ]
  },
  {
   "cell_type": "markdown",
   "metadata": {},
   "source": [
    "Note that the image above is captured and displayed in your site."
   ]
  },
  {
   "attachments": {},
   "cell_type": "markdown",
   "metadata": {},
   "source": [
    "```{prf:algorithm} Ford–Fulkerson\n",
    ":label: my-algorithm\n",
    "\n",
    "**Inputs** Given a Network $G=(V,E)$ with flow capacity $c$, a source node $s$, and a sink node $t$\n",
    "\n",
    "**Output** Compute a flow $f$ from $s$ to $t$ of maximum value\n",
    "\n",
    "1. $f(u, v) \\leftarrow 0$ for all edges $(u,v)$\n",
    "2. While there is a path $p$ from $s$ to $t$ in $G_{f}$ such that $c_{f}(u,v)>0$\n",
    "\tfor all edges $(u,v) \\in p$:\n",
    "\n",
    "\t1. Find $c_{f}(p)= \\min \\{c_{f}(u,v):(u,v)\\in p\\}$\n",
    "\t2. For each edge $(u,v) \\in p$\n",
    "\n",
    "\t\t1. $f(u,v) \\leftarrow f(u,v) + c_{f}(p)$ *(Send flow along the path)*\n",
    "\t\t2. $f(u,v) \\leftarrow f(u,v) - c_{f}(p)$ *(The flow might be \"returned\" later)*\n",
    "```"
   ]
  },
  {
   "cell_type": "code",
   "execution_count": null,
   "metadata": {
    "tags": [
     "popout",
     "remove-input",
     "remove-stdout"
    ]
   },
   "outputs": [],
   "source": [
    "# Fixing random state for reproducibility\n",
    "np.random.seed(19680801)\n",
    "\n",
    "N = 10\n",
    "data = [np.logspace(0, 1, 100) + .1*np.random.randn(100) + ii for ii in range(N)]\n",
    "data = np.array(data).T\n",
    "cmap = plt.cm.coolwarm\n",
    "rcParams['axes.prop_cycle'] = cycler(color=cmap(np.linspace(0, 1, N)))\n",
    "\n",
    "\n",
    "from matplotlib.lines import Line2D\n",
    "custom_lines = [Line2D([0], [0], color=cmap(0.), lw=4),\n",
    "                Line2D([0], [0], color=cmap(.5), lw=4),\n",
    "                Line2D([0], [0], color=cmap(1.), lw=4)]\n",
    "\n",
    "fig, ax = plt.subplots(figsize=(10, 5))\n",
    "lines = ax.plot(data)\n",
    "ax.legend(custom_lines, ['Cold', 'Medium', 'Hot'])\n",
    "ax.set(title=\"Smoother linez\")"
   ]
  },
  {
   "cell_type": "markdown",
   "metadata": {
    "tags": [
     "popout"
    ]
   },
   "source": [
    "```{margin} **You can also pop out content to the side!**\n",
    "For more information on how to do this,\n",
    "check out the {ref}`layout/sidebar` section.\n",
    "```"
   ]
  },
  {
   "cell_type": "code",
   "execution_count": 2,
   "metadata": {},
   "outputs": [
    {
     "ename": "ModuleNotFoundError",
     "evalue": "No module named 'plotly'",
     "output_type": "error",
     "traceback": [
      "\u001b[1;31m---------------------------------------------------------------------------\u001b[0m",
      "\u001b[1;31mModuleNotFoundError\u001b[0m                       Traceback (most recent call last)",
      "Cell \u001b[1;32mIn[2], line 1\u001b[0m\n\u001b[1;32m----> 1\u001b[0m \u001b[39mimport\u001b[39;00m \u001b[39mplotly\u001b[39;00m\u001b[39m.\u001b[39;00m\u001b[39mio\u001b[39;00m \u001b[39mas\u001b[39;00m \u001b[39mpio\u001b[39;00m\n\u001b[0;32m      2\u001b[0m \u001b[39mimport\u001b[39;00m \u001b[39mplotly\u001b[39;00m\u001b[39m.\u001b[39;00m\u001b[39mexpress\u001b[39;00m \u001b[39mas\u001b[39;00m \u001b[39mpx\u001b[39;00m\n\u001b[0;32m      3\u001b[0m \u001b[39mimport\u001b[39;00m \u001b[39mplotly\u001b[39;00m\u001b[39m.\u001b[39;00m\u001b[39moffline\u001b[39;00m \u001b[39mas\u001b[39;00m \u001b[39mpy\u001b[39;00m\n",
      "\u001b[1;31mModuleNotFoundError\u001b[0m: No module named 'plotly'"
     ]
    }
   ],
   "source": [
    "import plotly.io as pio\n",
    "import plotly.express as px\n",
    "import plotly.offline as py\n",
    "\n",
    "df = px.data.iris()\n",
    "fig = px.scatter(df, x=\"sepal_width\", y=\"sepal_length\", color=\"species\", size=\"sepal_length\")\n",
    "fig"
   ]
  },
  {
   "cell_type": "markdown",
   "metadata": {},
   "source": [
    "## Removing content before publishing\n",
    "\n",
    "You can also remove some content before publishing your book to the web. \n",
    "For reference, {download}`you can download the notebook content for this page <notebooks.ipynb>`."
   ]
  },
  {
   "cell_type": "code",
   "execution_count": null,
   "metadata": {
    "tags": [
     "remove-cell"
    ]
   },
   "outputs": [],
   "source": [
    "thisvariable = \"none of this should show up in the textbook\"\n",
    "\n",
    "fig, ax = plt.subplots()\n",
    "x = np.random.randn(100)\n",
    "y = np.random.randn(100)\n",
    "ax.scatter(x, y, s=np.abs(x*100), c=x, cmap=plt.cm.coolwarm)\n",
    "ax.text(0, .5, thisvariable, fontsize=20, transform=ax.transAxes)\n",
    "ax.set_axis_off()"
   ]
  },
  {
   "cell_type": "markdown",
   "metadata": {},
   "source": [
    "You can **remove only the code** so that images and other output still show up."
   ]
  },
  {
   "cell_type": "code",
   "execution_count": null,
   "metadata": {
    "tags": [
     "hide-input"
    ]
   },
   "outputs": [],
   "source": [
    "thisvariable = \"this plot *will* show up in the textbook.\"\n",
    "\n",
    "fig, ax = plt.subplots()\n",
    "x = np.random.randn(100)\n",
    "y = np.random.randn(100)\n",
    "ax.scatter(x, y, s=np.abs(x*100), c=x, cmap=plt.cm.coolwarm)\n",
    "ax.text(0, .5, thisvariable, fontsize=20, transform=ax.transAxes)\n",
    "ax.set_axis_off()"
   ]
  },
  {
   "cell_type": "markdown",
   "metadata": {},
   "source": [
    "Which works well if you'd like to quickly display cell output without cluttering your content with code.\n",
    "This works for any cell output, like a Pandas DataFrame."
   ]
  },
  {
   "cell_type": "code",
   "execution_count": null,
   "metadata": {
    "tags": [
     "hide-input"
    ]
   },
   "outputs": [],
   "source": [
    "import pandas as pd\n",
    "pd.DataFrame([['hi', 'there'], ['this', 'is'], ['a', 'DataFrame']], columns=['Word A', 'Word B'])"
   ]
  },
  {
   "attachments": {},
   "cell_type": "markdown",
   "metadata": {},
   "source": [
    "See [](./dtw.md) for more information about hiding and removing content."
   ]
  },
  {
   "cell_type": "markdown",
   "metadata": {},
   "source": [
    "## Interactive outputs\n",
    "\n",
    "We can do the same for *interactive* material. Below we'll display a map\n",
    "using [folium](https://python-visualization.github.io/folium/). When your book is built,\n",
    "the code for creating the interactive map is retained.\n",
    "\n",
    "```{margin}\n",
    "**This will only work for some packages.** They need to be able to output standalone\n",
    "HTML/Javascript, and not\n",
    "depend on an underlying Python kernel to work.\n",
    "```"
   ]
  },
  {
   "cell_type": "code",
   "execution_count": null,
   "metadata": {},
   "outputs": [],
   "source": [
    "import folium\n",
    "m = folium.Map(\n",
    "    location=[45.372, -121.6972],\n",
    "    zoom_start=12,\n",
    "    tiles='Stamen Terrain'\n",
    ")\n",
    "\n",
    "folium.Marker(\n",
    "    location=[45.3288, -121.6625],\n",
    "    popup='Mt. Hood Meadows',\n",
    "    icon=folium.Icon(icon='cloud')\n",
    ").add_to(m)\n",
    "\n",
    "folium.Marker(\n",
    "    location=[45.3311, -121.7113],\n",
    "    popup='Timberline Lodge',\n",
    "    icon=folium.Icon(color='green')\n",
    ").add_to(m)\n",
    "\n",
    "folium.Marker(\n",
    "    location=[45.3300, -121.6823],\n",
    "    popup='Some Other Location',\n",
    "    icon=folium.Icon(color='red', icon='info-sign')\n",
    ").add_to(m)\n",
    "\n",
    "m"
   ]
  },
  {
   "cell_type": "markdown",
   "metadata": {},
   "source": [
    "## Rich outputs from notebook cells"
   ]
  },
  {
   "cell_type": "markdown",
   "metadata": {},
   "source": [
    "Because notebooks have rich text outputs, you can store these in\n",
    "your Jupyter Book as well! For example, here is the command line help\n",
    "menu, see how it is nicely formatted."
   ]
  },
  {
   "cell_type": "code",
   "execution_count": null,
   "metadata": {},
   "outputs": [],
   "source": [
    "!jupyter-book build --help"
   ]
  },
  {
   "cell_type": "markdown",
   "metadata": {},
   "source": [
    "And here is an error. You can mark notebook cells as \"expected to error\" by adding a\n",
    "`raises-exception` tag to them."
   ]
  },
  {
   "cell_type": "code",
   "execution_count": null,
   "metadata": {
    "tags": [
     "raises-exception"
    ]
   },
   "outputs": [],
   "source": [
    "this_will_error"
   ]
  },
  {
   "cell_type": "markdown",
   "metadata": {},
   "source": [
    "## More features with Jupyter notebooks\n",
    "\n",
    "There are many other features of Jupyter notebooks to take advantage of,\n",
    "such as automatically generating Binder links for notebooks or connecting your content with a kernel in the cloud.\n",
    "For more information browse the pages in this site, and [](content:code-outputs) in particular."
   ]
  }
 ],
 "metadata": {
  "kernelspec": {
   "display_name": "Python 3",
   "language": "python",
   "name": "python3"
  },
  "language_info": {
   "codemirror_mode": {
    "name": "ipython",
    "version": 3
   },
   "file_extension": ".py",
   "mimetype": "text/x-python",
   "name": "python",
   "nbconvert_exporter": "python",
   "pygments_lexer": "ipython3",
   "version": "3.8.16"
  },
  "toc": {
   "base_numbering": 1,
   "nav_menu": {},
   "number_sections": false,
   "sideBar": true,
   "skip_h1_title": false,
   "title_cell": "Table of Contents",
   "title_sidebar": "Contents",
   "toc_cell": false,
   "toc_position": {},
   "toc_section_display": true,
   "toc_window_display": false
  }
 },
 "nbformat": 4,
 "nbformat_minor": 4
}
